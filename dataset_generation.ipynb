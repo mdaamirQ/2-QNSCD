{
 "cells": [
  {
   "cell_type": "code",
   "execution_count": 2,
   "id": "932da2fc",
   "metadata": {},
   "outputs": [],
   "source": [
    "from pennylane import numpy as np"
   ]
  },
  {
   "cell_type": "code",
   "execution_count": 6,
   "id": "6c4f3325",
   "metadata": {},
   "outputs": [],
   "source": [
    "nqubits = 3\n",
    "dim = 2**nqubits\n",
    "version = \"1\"\n",
    "extension = \".npy\"\n",
    "\n",
    "def dataset(nSamples):\n",
    "    state = np.zeros((dim,nSamples)) ### state = [sample1,sample2,....]\n",
    "    label = np.zeros(nSamples)       ### label = [label1,label2,....]\n",
    "    \n",
    "    for i in range(nSamples):\n",
    "        u = np.random.rand(int(dim/2))\n",
    "        u = u/np.linalg.norm(u)\n",
    "        \n",
    "        # probabilities: phi1 with p and phi2 with (1-p)\n",
    "        p = np.random.rand(1)\n",
    "        b = np.random.rand(1)\n",
    "        \n",
    "        if p <= 1/3:\n",
    "            ### Quantum State\n",
    "            for j in range(int(dim/2)): state[2*j,i] = u[j]\n",
    "            ### Label\n",
    "            label[i] = 1\n",
    "        elif p > 1/3 and b <= 0.5:\n",
    "            ### Quantum State\n",
    "            for j in range(int(dim/2)): \n",
    "                if j%2 == 0:\n",
    "                    state[2*j+1,i] = -u[j]\n",
    "                else: \n",
    "                    state[2*j,i] = u[j]\n",
    "            ### Label     \n",
    "            label[i] = -1\n",
    "        else:\n",
    "            ### Quantum State\n",
    "            for j in range(int(dim/2)): \n",
    "                if j%2 == 0:\n",
    "                    state[2*j+1,i] = u[j]\n",
    "                else: \n",
    "                    state[2*j,i] = u[j]\n",
    "            ### Label     \n",
    "            label[i] = -1\n",
    "    \n",
    "    return state, label"
   ]
  },
  {
   "cell_type": "code",
   "execution_count": 12,
   "id": "75ee5c12",
   "metadata": {},
   "outputs": [],
   "source": [
    "phiTrainNCGD, labelTrainNCGD = dataset(int(1e6))\n",
    "# print(phiTrainNCGD,labelTrainNCGD)\n",
    "# print(np.linalg.norm(phiTrainNCGD))\n",
    "\n",
    "file_name1 = \"{}-qubitsPhiTrain_v{}{}\".format(str(nqubits), version,extension)\n",
    "file_name2 = \"{}-qubitsLabelTrain_v{}{}\".format(str(nqubits), version,extension)\n",
    "\n",
    "np.save(file_name1,phiTrainNCGD)\n",
    "np.save(file_name2,labelTrainNCGD)"
   ]
  },
  {
   "cell_type": "code",
   "execution_count": null,
   "id": "95332c78",
   "metadata": {},
   "outputs": [],
   "source": [
    "phiTest, labelTest = dataset(int(1e5))\n",
    "\n",
    "file_name3 = \"{}-qubitsPhiTest_v{}{}\".format(str(nqubits),version,extension)\n",
    "file_name4 = \"{}-qubitsLabelTest_v{}{}\".format(str(nqubits),version,extension)\n",
    "\n",
    "np.save(file_name3,phiTest)\n",
    "np.save(file_name4,labelTest)"
   ]
  }
 ],
 "metadata": {
  "kernelspec": {
   "display_name": "Python 3 (ipykernel)",
   "language": "python",
   "name": "python3"
  },
  "language_info": {
   "codemirror_mode": {
    "name": "ipython",
    "version": 3
   },
   "file_extension": ".py",
   "mimetype": "text/x-python",
   "name": "python",
   "nbconvert_exporter": "python",
   "pygments_lexer": "ipython3",
   "version": "3.11.7"
  }
 },
 "nbformat": 4,
 "nbformat_minor": 5
}
